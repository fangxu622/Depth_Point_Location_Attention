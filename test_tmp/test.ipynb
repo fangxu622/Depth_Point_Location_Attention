{
 "cells": [
  {
   "cell_type": "code",
   "execution_count": null,
   "metadata": {},
   "outputs": [],
   "source": [
    "import mmcv\n",
    "from mmcv import Config\n",
    "import open3d\n",
    "import numpy as np\n",
    "import torch\n",
    "import MinkowskiEngine as ME\n",
    "import numpy as np\n",
    "from torch import nn\n",
    "\n",
    "points = np.random.random(size=(1000,3))\n",
    "\n",
    "tt = torch.tensor(points,dtype=torch.float)\n",
    "tt.type(torch.float)[9]"
   ]
  },
  {
   "cell_type": "code",
   "execution_count": null,
   "metadata": {},
   "outputs": [],
   "source": [
    "t1 = torch.randn(2,4)\n",
    "t2 = torch.randn(2,4)\n",
    "t3 = torch.randn(1,4)\n",
    "pdist = nn.PairwiseDistance(2,keepdim= True)\n",
    "criterion = nn.MSELoss()"
   ]
  },
  {
   "cell_type": "code",
   "execution_count": null,
   "metadata": {},
   "outputs": [],
   "source": [
    "t3 =t1[0]-t2[0]\n",
    "t3.abs().sum()"
   ]
  },
  {
   "cell_type": "code",
   "execution_count": null,
   "metadata": {},
   "outputs": [],
   "source": [
    "t1[0,1].data.item()"
   ]
  },
  {
   "cell_type": "code",
   "execution_count": null,
   "metadata": {},
   "outputs": [],
   "source": [
    "r1 = pdist(t1,t2)#.sum().cuda()\n",
    "#r2 = pdist(t1,t3).sum().cuda()\n",
    "#r3 = pdist(t3,t2).sum().cuda()"
   ]
  },
  {
   "cell_type": "code",
   "execution_count": null,
   "metadata": {},
   "outputs": [],
   "source": [
    "import os\n",
    "os.path.join(\"pcd_dir\" ,\"seq_idx\" ,\"2\")"
   ]
  },
  {
   "cell_type": "code",
   "execution_count": null,
   "metadata": {},
   "outputs": [],
   "source": []
  },
  {
   "cell_type": "code",
   "execution_count": null,
   "metadata": {},
   "outputs": [],
   "source": [
    "import configparser\n",
    "\n",
    "config = configparser.ConfigParser()\n",
    "config.read(\"/media/fangxu/Disk4T/fangxuPrj/MinkLoc3D/config/config_baseline.txt\")\n",
    "params = config['DEFAULT']\n",
    "num_points = params.getint('num_points', 4096)\n"
   ]
  },
  {
   "cell_type": "code",
   "execution_count": null,
   "metadata": {},
   "outputs": [],
   "source": [
    "params = config['TRAIN']\n",
    "num_workers = params.getint('num_workers',7)\n",
    "dataset_folder = params.get ('seq_train_list')\n",
    "print(list(dataset_folder))\n",
    "print(num_workers )\n",
    "print(type(dataset_folder))"
   ]
  },
  {
   "cell_type": "code",
   "execution_count": null,
   "metadata": {},
   "outputs": [],
   "source": []
  },
  {
   "cell_type": "code",
   "execution_count": null,
   "metadata": {},
   "outputs": [],
   "source": [
    "import cv2\n",
    "import os\n",
    "\n",
    "cv2.__version__"
   ]
  },
  {
   "cell_type": "code",
   "execution_count": null,
   "metadata": {},
   "outputs": [],
   "source": [
    "path = \"/media/fangxu/Disk4T/fangxuPrj/Depth_Point_Location_Attention/tools/frame-000000.color.png\"\n",
    "Img = cv2.imread(path,cv2.CV_8UC1)\n",
    "surf = cv2.xfeatures2d.SURF_create(400)\n",
    "keypoints, descriptors = surf.detectAndCompute(Img, None)\n",
    "print(len(keypoints))"
   ]
  },
  {
   "cell_type": "code",
   "execution_count": null,
   "metadata": {},
   "outputs": [],
   "source": [
    "import torch\n",
    "torch.__version__"
   ]
  },
  {
   "cell_type": "code",
   "execution_count": null,
   "metadata": {},
   "outputs": [],
   "source": []
  },
  {
   "cell_type": "code",
   "execution_count": null,
   "metadata": {},
   "outputs": [],
   "source": [
    "from torchvision import transforms\n",
    "from PIL import Image\n",
    "import numpy as np\n",
    "path = \"/media/fangxu/Disk4T/fangxuPrj/Depth_Point_Location_Attention/tools/frame-000000.depth.png\"\n",
    "transform_depth = transforms.Compose([\n",
    "          transforms.Resize(256),\n",
    "        transforms.CenterCrop(224),\n",
    "                               #transforms.ToTensor(),\n",
    "                               # transforms.Normalize((0.485, 0.456, 0.406), (0.229, 0.224, 0.225)),\n",
    "                             ])\n",
    "\n",
    "img_depth = Image.open( path).convert('I')\n",
    "#img_depth =np.array(img_depth)#[np.newaxis,:]\n",
    "img_depth= transform_depth(img_depth)\n",
    "#img_depth.shape"
   ]
  },
  {
   "cell_type": "code",
   "execution_count": null,
   "metadata": {},
   "outputs": [],
   "source": []
  },
  {
   "cell_type": "code",
   "execution_count": null,
   "metadata": {},
   "outputs": [],
   "source": [
    "import numpy as np\n",
    "import torch"
   ]
  },
  {
   "cell_type": "code",
   "execution_count": null,
   "metadata": {},
   "outputs": [],
   "source": [
    "a = np.random.randn(3,3,1,1)"
   ]
  },
  {
   "cell_type": "code",
   "execution_count": null,
   "metadata": {},
   "outputs": [],
   "source": [
    "b = torch.tensor(a)\n",
    "b.squeeze().shape"
   ]
  },
  {
   "cell_type": "code",
   "execution_count": null,
   "metadata": {},
   "outputs": [],
   "source": [
    "torch.float"
   ]
  },
  {
   "cell_type": "code",
   "execution_count": null,
   "metadata": {},
   "outputs": [],
   "source": [
    "import torch, numpy\n",
    "a=numpy.arange(5.)\n",
    "a.flags.writeable=False\n",
    "t=torch.from_numpy(a)"
   ]
  },
  {
   "cell_type": "code",
   "execution_count": null,
   "metadata": {},
   "outputs": [],
   "source": [
    "from torchvision import transforms, models, datasets"
   ]
  },
  {
   "cell_type": "code",
   "execution_count": null,
   "metadata": {},
   "outputs": [],
   "source": [
    "base_model = models.resnet34(pretrained=True)\n",
    "base_model.fc.in_features"
   ]
  },
  {
   "cell_type": "code",
   "execution_count": 1,
   "metadata": {},
   "outputs": [],
   "source": [
    "import os, sys\n",
    "sys.path.append(\"/media/fangxu/Disk4T/fangxuPrj/Depth_Point_Location_Attention\")\n",
    "from dataset import make_dataloaders\n",
    "from model import Fuse_PPNet, Pose_Depth_Net, standard_pose_loss, Pose_Pcd_Net\n",
    "from mmcv import Config\n",
    "import torch\n",
    "import torch.nn.functional as F\n",
    "from utils import median, quaternion_angular_error\n",
    "from torch import nn\n",
    "torch.backends.cudnn.enable =True\n",
    "device = torch.device(\"cuda:0\" if torch.cuda.is_available() else \"cpu\")\n",
    "\n",
    "config_path = '/media/fangxu/Disk4T/fangxuPrj/Depth_Point_Location_Attention/config/conf_pcd.py'\n",
    "\n",
    "config = Config.fromfile(config_path)\n",
    "pdist = nn.PairwiseDistance(2)\n",
    "\n",
    "train_loader , test_loader = make_dataloaders(config)\n",
    "#model = Fuse_PPNet(config)\n",
    "model = Pose_Pcd_Net(config)\n",
    "model = model.to(device)\n",
    "\n",
    "# if config.pretrain_weight is not None:\n",
    "#     model.load_state_dict( torch.load(config.pretrain_weight) )\n",
    "#     print(\"load pretrain weight\")"
   ]
  },
  {
   "cell_type": "code",
   "execution_count": 2,
   "metadata": {},
   "outputs": [],
   "source": [
    "depth_base , pcd_base, base_t,base_q = enumerate(test_loader).__next__()[1]"
   ]
  },
  {
   "cell_type": "code",
   "execution_count": 3,
   "metadata": {},
   "outputs": [],
   "source": [
    "#pcd_input = {e: pcd_base[e].to(device) for e in pcd_base}\n",
    "t_gt, q_gt = base_t.to(device) , base_q.to(device)\n",
    "pcd_input = {e: pcd_base[e].to(device) for e in pcd_base}\n"
   ]
  },
  {
   "cell_type": "code",
   "execution_count": 4,
   "metadata": {},
   "outputs": [],
   "source": [
    "model.eval()\n",
    "with torch.no_grad():\n",
    "    dis_Err_Count, ort_Err_count = [], []\n",
    "    t_infers, q_infers = model( pcd_input)"
   ]
  },
  {
   "cell_type": "code",
   "execution_count": 5,
   "metadata": {},
   "outputs": [
    {
     "data": {
      "text/plain": [
       "tensor([[-0.1825, -0.0234,  0.0481, -0.0044],\n",
       "        [-0.1859, -0.0247,  0.0494, -0.0029],\n",
       "        [-0.1841, -0.0263,  0.0500, -0.0054],\n",
       "        [-0.1813, -0.0274,  0.0505, -0.0062],\n",
       "        [-0.1847, -0.0250,  0.0502, -0.0051],\n",
       "        [-0.1850, -0.0268,  0.0505, -0.0024],\n",
       "        [-0.1829, -0.0253,  0.0481, -0.0041],\n",
       "        [-0.1835, -0.0266,  0.0503, -0.0039],\n",
       "        [-0.1853, -0.0262,  0.0496, -0.0045],\n",
       "        [-0.1838, -0.0246,  0.0505, -0.0052]])"
      ]
     },
     "execution_count": 5,
     "metadata": {},
     "output_type": "execute_result"
    }
   ],
   "source": [
    "q_infers.cpu()"
   ]
  },
  {
   "cell_type": "code",
   "execution_count": 11,
   "metadata": {},
   "outputs": [
    {
     "ename": "RuntimeError",
     "evalue": "CUDA error: device-side assert triggered",
     "output_type": "error",
     "traceback": [
      "\u001b[0;31m---------------------------------------------------------------------------\u001b[0m",
      "\u001b[0;31mRuntimeError\u001b[0m                              Traceback (most recent call last)",
      "\u001b[0;32m<ipython-input-11-1ba6a6bdce94>\u001b[0m in \u001b[0;36m<module>\u001b[0;34m\u001b[0m\n\u001b[1;32m      1\u001b[0m \u001b[0mq_infer\u001b[0m \u001b[0;34m=\u001b[0m \u001b[0mF\u001b[0m\u001b[0;34m.\u001b[0m\u001b[0mnormalize\u001b[0m\u001b[0;34m(\u001b[0m\u001b[0mq_infers\u001b[0m\u001b[0;34m,\u001b[0m \u001b[0mp\u001b[0m\u001b[0;34m=\u001b[0m\u001b[0;36m2\u001b[0m\u001b[0;34m,\u001b[0m \u001b[0mdim\u001b[0m\u001b[0;34m=\u001b[0m\u001b[0;36m1\u001b[0m \u001b[0;34m)\u001b[0m\u001b[0;34m\u001b[0m\u001b[0;34m\u001b[0m\u001b[0m\n\u001b[0;32m----> 2\u001b[0;31m \u001b[0mort_Err\u001b[0m \u001b[0;34m=\u001b[0m \u001b[0mquaternion_angular_error\u001b[0m\u001b[0;34m(\u001b[0m \u001b[0mq_infer\u001b[0m\u001b[0;34m,\u001b[0m \u001b[0mq_gt\u001b[0m\u001b[0;34m)\u001b[0m\u001b[0;34m.\u001b[0m\u001b[0mcpu\u001b[0m\u001b[0;34m(\u001b[0m\u001b[0;34m)\u001b[0m\u001b[0;34m.\u001b[0m\u001b[0mnumpy\u001b[0m\u001b[0;34m(\u001b[0m\u001b[0;34m)\u001b[0m\u001b[0;34m\u001b[0m\u001b[0;34m\u001b[0m\u001b[0m\n\u001b[0m",
      "\u001b[0;31mRuntimeError\u001b[0m: CUDA error: device-side assert triggered"
     ]
    }
   ],
   "source": [
    "q_infer = F.normalize(q_infers, p=2, dim=1 )\n",
    "ort_Err = quaternion_angular_error( q_infer, q_gt).cpu().numpy()"
   ]
  },
  {
   "cell_type": "code",
   "execution_count": 6,
   "metadata": {},
   "outputs": [
    {
     "data": {
      "text/plain": [
       "array([145.36958, 147.20853, 144.75111, 145.71577, 145.45235, 146.8012 ,\n",
       "       146.92148, 145.63513, 145.85812, 143.8302 ], dtype=float32)"
      ]
     },
     "execution_count": 6,
     "metadata": {},
     "output_type": "execute_result"
    }
   ],
   "source": [
    "ort_Err"
   ]
  },
  {
   "cell_type": "code",
   "execution_count": 8,
   "metadata": {},
   "outputs": [],
   "source": [
    "ddd = pdist(t_infers, t_gt)"
   ]
  },
  {
   "cell_type": "code",
   "execution_count": 16,
   "metadata": {},
   "outputs": [],
   "source": [
    "\n",
    "#q_infer"
   ]
  },
  {
   "cell_type": "code",
   "execution_count": 17,
   "metadata": {},
   "outputs": [
    {
     "ename": "RuntimeError",
     "evalue": "Expected all tensors to be on the same device, but found at least two devices, cuda:0 and cpu!",
     "output_type": "error",
     "traceback": [
      "\u001b[0;31m---------------------------------------------------------------------------\u001b[0m",
      "\u001b[0;31mRuntimeError\u001b[0m                              Traceback (most recent call last)",
      "\u001b[0;32m<ipython-input-17-4d5130062aa0>\u001b[0m in \u001b[0;36m<module>\u001b[0;34m\u001b[0m\n\u001b[0;32m----> 1\u001b[0;31m \u001b[0mort_Err\u001b[0m \u001b[0;34m=\u001b[0m \u001b[0mquaternion_angular_error\u001b[0m\u001b[0;34m(\u001b[0m \u001b[0mq_infer\u001b[0m\u001b[0;34m,\u001b[0m \u001b[0mq_gt\u001b[0m\u001b[0;34m)\u001b[0m\u001b[0;34m.\u001b[0m\u001b[0mcpu\u001b[0m\u001b[0;34m(\u001b[0m\u001b[0;34m)\u001b[0m\u001b[0;34m.\u001b[0m\u001b[0mnumpy\u001b[0m\u001b[0;34m(\u001b[0m\u001b[0;34m)\u001b[0m\u001b[0;34m\u001b[0m\u001b[0;34m\u001b[0m\u001b[0m\n\u001b[0m",
      "\u001b[0;32m/media/fangxu/Disk4T/fangxuPrj/Depth_Point_Location_Attention/utils/utils.py\u001b[0m in \u001b[0;36mquaternion_angular_error\u001b[0;34m(q1, q2)\u001b[0m\n\u001b[1;32m     12\u001b[0m \u001b[0;34m\u001b[0m\u001b[0m\n\u001b[1;32m     13\u001b[0m \u001b[0;32mdef\u001b[0m \u001b[0mquaternion_angular_error\u001b[0m\u001b[0;34m(\u001b[0m\u001b[0mq1\u001b[0m\u001b[0;34m,\u001b[0m\u001b[0mq2\u001b[0m\u001b[0;34m)\u001b[0m\u001b[0;34m:\u001b[0m\u001b[0;34m\u001b[0m\u001b[0;34m\u001b[0m\u001b[0m\n\u001b[0;32m---> 14\u001b[0;31m     \u001b[0md\u001b[0m \u001b[0;34m=\u001b[0m \u001b[0mtorch\u001b[0m\u001b[0;34m.\u001b[0m\u001b[0mabs\u001b[0m\u001b[0;34m(\u001b[0m \u001b[0mtorch\u001b[0m\u001b[0;34m.\u001b[0m\u001b[0mmul\u001b[0m\u001b[0;34m(\u001b[0m\u001b[0mq1\u001b[0m\u001b[0;34m,\u001b[0m\u001b[0mq2\u001b[0m\u001b[0;34m)\u001b[0m\u001b[0;34m.\u001b[0m\u001b[0msum\u001b[0m\u001b[0;34m(\u001b[0m\u001b[0;36m1\u001b[0m\u001b[0;34m)\u001b[0m  \u001b[0;34m)\u001b[0m\u001b[0;34m\u001b[0m\u001b[0;34m\u001b[0m\u001b[0m\n\u001b[0m\u001b[1;32m     15\u001b[0m     \u001b[0md\u001b[0m\u001b[0;34m[\u001b[0m\u001b[0md\u001b[0m\u001b[0;34m>\u001b[0m\u001b[0;36m1.0\u001b[0m\u001b[0;34m]\u001b[0m \u001b[0;34m=\u001b[0m \u001b[0;36m1.0\u001b[0m\u001b[0;34m\u001b[0m\u001b[0;34m\u001b[0m\u001b[0m\n\u001b[1;32m     16\u001b[0m     \u001b[0mtheta\u001b[0m \u001b[0;34m=\u001b[0m \u001b[0;36m2\u001b[0m \u001b[0;34m*\u001b[0m \u001b[0mtorch\u001b[0m\u001b[0;34m.\u001b[0m\u001b[0macos\u001b[0m\u001b[0;34m(\u001b[0m \u001b[0md\u001b[0m \u001b[0;34m)\u001b[0m \u001b[0;34m*\u001b[0m \u001b[0;36m180.0\u001b[0m \u001b[0;34m/\u001b[0m\u001b[0mnp\u001b[0m\u001b[0;34m.\u001b[0m\u001b[0mpi\u001b[0m\u001b[0;34m\u001b[0m\u001b[0;34m\u001b[0m\u001b[0m\n",
      "\u001b[0;31mRuntimeError\u001b[0m: Expected all tensors to be on the same device, but found at least two devices, cuda:0 and cpu!"
     ]
    }
   ],
   "source": []
  },
  {
   "cell_type": "code",
   "execution_count": 4,
   "metadata": {},
   "outputs": [
    {
     "data": {
      "text/plain": [
       "tensor([[ 0.0554,  0.2591,  0.2918],\n",
       "        [-0.3697,  0.2470, -0.4990],\n",
       "        [-0.7781, -0.4152, -0.0231],\n",
       "        [-1.4733, -2.1839, -0.0891],\n",
       "        [-0.7738,  2.0468,  1.6853],\n",
       "        [ 0.1338,  2.3174, -1.2279],\n",
       "        [ 1.1289,  0.0024, -1.1528],\n",
       "        [ 1.2758,  0.4467,  0.3057],\n",
       "        [ 0.5126,  0.9566,  0.1841],\n",
       "        [ 0.4284,  1.3931,  1.3314]], device='cuda:0')"
      ]
     },
     "execution_count": 4,
     "metadata": {},
     "output_type": "execute_result"
    }
   ],
   "source": [
    "import torch\n",
    "a = torch.randn(10,3)\n",
    "a.cuda()"
   ]
  },
  {
   "cell_type": "code",
   "execution_count": 1,
   "metadata": {},
   "outputs": [],
   "source": []
  },
  {
   "cell_type": "code",
   "execution_count": null,
   "metadata": {},
   "outputs": [],
   "source": []
  },
  {
   "cell_type": "code",
   "execution_count": null,
   "metadata": {},
   "outputs": [],
   "source": []
  },
  {
   "cell_type": "code",
   "execution_count": 8,
   "metadata": {},
   "outputs": [
    {
     "data": {
      "text/plain": [
       "tensor([[-0.2972, -0.7287,  0.4583, -0.4131],\n",
       "        [-0.2901, -0.7481,  0.4422, -0.4008],\n",
       "        [-0.2931, -0.7468,  0.4465, -0.3962],\n",
       "        [-0.2851, -0.7474,  0.4478, -0.3994],\n",
       "        [-0.2893, -0.7532,  0.4451, -0.3885],\n",
       "        [-0.2791, -0.7572,  0.4504, -0.3820],\n",
       "        [-0.2942, -0.7485,  0.4466, -0.3921],\n",
       "        [-0.2903, -0.7530,  0.4355, -0.3988],\n",
       "        [-0.2763, -0.7527,  0.4498, -0.3936],\n",
       "        [-0.2809, -0.7504,  0.4454, -0.3996]])"
      ]
     },
     "execution_count": 8,
     "metadata": {},
     "output_type": "execute_result"
    }
   ],
   "source": [
    "\n",
    "q_infers= F.normalize(q_infers, p=2, dim=1 )\n",
    "q_infers\n",
    "\n",
    "#dis_Err = pdist(t_infer, t_gt).cpu().numpy()"
   ]
  },
  {
   "cell_type": "code",
   "execution_count": 14,
   "metadata": {},
   "outputs": [],
   "source": [
    "dis_Err = pdist(t_infers, t_gt)\n",
    "#dis_Err\n",
    "#dis_Err_Count = dis_Err_Count + list(dis_Err)\n",
    "#base_q.to(device)\n",
    "dis_Err"
   ]
  },
  {
   "cell_type": "code",
   "execution_count": null,
   "metadata": {},
   "outputs": [],
   "source": [
    "print(t_gt.shape)\n",
    "print(t_infer.shape)\n",
    "\n",
    "print(q_gt.shape)\n",
    "print(q_infer.shape)"
   ]
  },
  {
   "cell_type": "code",
   "execution_count": null,
   "metadata": {},
   "outputs": [],
   "source": [
    "q_infer = F.normalize(q_infer, p=2, dim=1 )\n",
    "ort_Err = quaternion_angular_error( q_infer, q_gt).detach().cpu().numpy()"
   ]
  },
  {
   "cell_type": "code",
   "execution_count": null,
   "metadata": {},
   "outputs": [],
   "source": [
    "q_infer"
   ]
  },
  {
   "cell_type": "code",
   "execution_count": null,
   "metadata": {},
   "outputs": [],
   "source": [
    "torch.cuda.is_available()"
   ]
  }
 ],
 "metadata": {
  "interpreter": {
   "hash": "e4855ac1a1eb4db71c21b7855afc3af7895942fa033a3bdf92b8c4e9555b350d"
  },
  "kernelspec": {
   "display_name": "Python 3.7.9 ('torch')",
   "language": "python",
   "name": "python3"
  },
  "language_info": {
   "codemirror_mode": {
    "name": "ipython",
    "version": 3
   },
   "file_extension": ".py",
   "mimetype": "text/x-python",
   "name": "python",
   "nbconvert_exporter": "python",
   "pygments_lexer": "ipython3",
   "version": "3.7.9"
  },
  "orig_nbformat": 4
 },
 "nbformat": 4,
 "nbformat_minor": 2
}
